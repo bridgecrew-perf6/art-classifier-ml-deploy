{
 "cells": [
  {
   "cell_type": "markdown",
   "id": "kABfB_TLpi6f",
   "metadata": {
    "id": "kABfB_TLpi6f"
   },
   "source": [
    "# Modern Art Style Classifier\n",
    "\n",
    "### Press \"upload\" to analyze an image!\n",
    "_jpg/jpeg images only_"
   ]
  },
  {
   "cell_type": "code",
   "execution_count": 1,
   "id": "mvYKra7RrcDP",
   "metadata": {
    "colab": {
     "base_uri": "https://localhost:8080/"
    },
    "id": "mvYKra7RrcDP",
    "outputId": "bf2a006b-85ad-4599-f4fb-1aae0f7d7318"
   },
   "outputs": [],
   "source": [
    "# !rm -rf test-images\n",
    "# !rm -rf art-classifier-model\n",
    "# !rm -rf art-classifier-model.zip\n",
    "# !mkdir -p test-images\n",
    "# !wget -c 'https://github.com/todgru/art-classifier-ml-model/blob/main/art-classifier-model.zip?raw=true' -O art-classifier-model.zip\n",
    "# !unzip art-classifier-model.zip -d art-classifier-model"
   ]
  },
  {
   "cell_type": "code",
   "execution_count": 2,
   "id": "1mfDsjQ2x95-",
   "metadata": {
    "id": "1mfDsjQ2x95-"
   },
   "outputs": [],
   "source": [
    "import tensorflow as tf\n",
    "import matplotlib.pyplot as plt\n",
    "import ipywidgets as widgets\n",
    "from ipywidgets import HBox, VBox, interactive_output\n",
    "import io\n",
    "from PIL import Image"
   ]
  },
  {
   "cell_type": "code",
   "execution_count": 3,
   "id": "3ee97a00",
   "metadata": {
    "colab": {
     "base_uri": "https://localhost:8080/"
    },
    "id": "3ee97a00",
    "outputId": "8147637b-062b-49ef-eaec-b8b3c567c063"
   },
   "outputs": [
    {
     "name": "stderr",
     "output_type": "stream",
     "text": [
      "2022-01-22 22:30:56.283226: I tensorflow/core/common_runtime/pluggable_device/pluggable_device_factory.cc:305] Could not identify NUMA node of platform GPU ID 0, defaulting to 0. Your kernel may not have been built with NUMA support.\n",
      "2022-01-22 22:30:56.283575: I tensorflow/core/common_runtime/pluggable_device/pluggable_device_factory.cc:271] Created TensorFlow device (/job:localhost/replica:0/task:0/device:GPU:0 with 0 MB memory) -> physical PluggableDevice (device: 0, name: METAL, pci bus id: <undefined>)\n"
     ]
    },
    {
     "name": "stdout",
     "output_type": "stream",
     "text": [
      "Metal device set to: Apple M1\n"
     ]
    }
   ],
   "source": [
    "# Load Keras model\n",
    "# model = tf.keras.models.load_model(\"/content/art-classifier-model/art-classification-multi-class-mobilenet-v3-large-sigmoid-0.1dropout-softmax\")\n",
    "model = tf.keras.models.load_model(\"./art-classifier-model/art-classification-multi-class-mobilenet-v3-large-sigmoid-0.1dropout-softmax\")\n",
    "\n",
    "# Display model architecture summary\n",
    "# model.summary()"
   ]
  },
  {
   "cell_type": "code",
   "execution_count": 4,
   "id": "apiGsSj6Snvc",
   "metadata": {
    "id": "apiGsSj6Snvc"
   },
   "outputs": [],
   "source": [
    "# constants and variables\n",
    "\n",
    "class_names = ('Abstract Art', 'Abstract Expressionism', 'Cubism', 'Expressionism', 'Naïve Art (Primitivism)', 'Op Art', 'Pop Art', 'Street art', 'Suprematism', 'Surrealism')\n",
    "pixels = 224\n",
    "image_path = './test-images'\n",
    "test_image_urls = [\n",
    "    (\"abstract_expressionism_1.jpg\", \"https://uploads2.wikiart.org/images/jock-macdonald/from-a-riviera-window-1955.jpg\", \"Jock Macdonald\"),\n",
    "    (\"abstract_neoplasticim_1.jpg\", \"https://uploads7.wikiart.org/images/theo-van-doesburg/simultaneous-counter-composition-1930.jpg\", \"Theo Van Doesburg\"),\n",
    "    (\"abstract_expressionism_2\", \"https://uploads3.wikiart.org/images/kazuo-nakamura/inner-view-3-1955.jpg!Large.jpg\",\"Kazuo Nakamura\"),\n",
    "    (\"expresionism.jpg\", \"https://uploads7.wikiart.org/00151/images/albin-egger-lienz/ael-der-portraetmaler-auf-dem-lande.jpg!Large.jpg\",\"Albin Egger Lienz\"),\n",
    "    (\"naive-primitism.jpg\", \"https://uploads3.wikiart.org/images/niko-pirosmani/fisherman-among-rocks-1906.jpg!Large.jpg\", \"Niko Pirosmani\"),\n",
    "    (\"surrealism.jpg\",\"https://uploads0.wikiart.org/images/max-ernst/at-the-first-clear-word-1923.jpg!Large.jpg\",\"Max Ernst\"),\n",
    "    (\"op_art_medium_1.jpg\", \"http://www.biddingtons.com/os/item_images/100005_egrichardallen.jpg\", \"Richard Allen\"),\n",
    "    (\"paris_street_art_1.jpg\", \"http://www.missionmission.org/wp-content/uploads/2009/03/paris-street-art.jpg\", \"Unknown\"),\n",
    "    (\"street_art_1.jpg\", \"https://s.inyourpocket.com/gallery/148449m.jpg\", \"Unknown\"),\n",
    "    (\"graffiti_1.jpg\", \"https://s3.amazonaws.com/content.fatcap.com/opct_7be7040d3181da960d43eabeaf031b8b8ff35e67.jpg\", \"Unknown\"),\n",
    "    (\"graffiti_3.jpg\", \"https://www.logolynx.com/images/logolynx/a6/a6c396af9888ffba089b6ef4ae18e4c6.jpeg\", \"Uknown\"),\n",
    "    (\"sunflower_picture_1.jpg\", \"https://storage.googleapis.com/download.tensorflow.org/example_images/592px-Red_sunflower.jpg\", \"Google Image Data\"),\n",
    "]\n"
   ]
  },
  {
   "cell_type": "code",
   "execution_count": 5,
   "id": "328ecac0",
   "metadata": {
    "id": "328ecac0",
    "scrolled": false
   },
   "outputs": [],
   "source": [
    "\n",
    "def get_predictions(img_array):\n",
    "    [rank] = model.predict(img_array)\n",
    "    preds = zip(list(class_names), list(rank))\n",
    "    score = list(sorted(list(preds), key = lambda z: z[1], reverse = True)[:len(class_names)])\n",
    "\n",
    "    return score\n",
    "\n",
    "def format_predictions(score, artist):\n",
    "    first = score[0]\n",
    "    second = score[1]\n",
    "    third = score[2]\n",
    "    return \"\"\"\n",
    "{} {:.0f}%\n",
    "{} {:.0f}% \n",
    "{} {:.0f}%\n",
    "Artist: {}\"\"\".format(    \n",
    "        first[0], 100 * first[1], \n",
    "        second[0],100*second[1], \n",
    "        third[0],100*third[1],\n",
    "        artist)\n",
    "\n",
    "  "
   ]
  },
  {
   "cell_type": "code",
   "execution_count": 6,
   "id": "cfNzBxsOTepr",
   "metadata": {
    "id": "cfNzBxsOTepr"
   },
   "outputs": [],
   "source": [
    "import secrets\n",
    "\n",
    "# Display demo image predictions\n",
    "def display_demo_predictions():\n",
    "    index = secrets.randbelow(12)\n",
    "    print(index)\n",
    "    name, url, artist = test_image_urls[index]\n",
    "   \n",
    "    image_path = tf.keras.utils.get_file(name, origin=url)\n",
    "    img = tf.keras.utils.load_img(image_path, target_size=(pixels, pixels))\n",
    "    img_array = tf.keras.utils.img_to_array(img)\n",
    "    img_array = tf.expand_dims(img_array, 0) # Create a batch\n",
    "    img_array = img_array / 255\n",
    " \n",
    "    score = get_predictions(img_array)\n",
    "\n",
    "    print(format_predictions(score, artist))\n",
    "    plt.imshow(img)\n",
    "    plt.axis('off')\n",
    "    plt.show()\n"
   ]
  },
  {
   "cell_type": "code",
   "execution_count": 7,
   "id": "pupf3m2-5U-1",
   "metadata": {
    "colab": {
     "base_uri": "https://localhost:8080/",
     "height": 0
    },
    "id": "pupf3m2-5U-1",
    "outputId": "164fb135-6282-4758-d01e-d9e6ef6acf69"
   },
   "outputs": [],
   "source": [
    "# display_demo_predictions()"
   ]
  },
  {
   "cell_type": "code",
   "execution_count": 8,
   "id": "z6dILTdxT4lt",
   "metadata": {
    "id": "z6dILTdxT4lt"
   },
   "outputs": [],
   "source": [
    "\n",
    "out = widgets.Output(layout={'border': '1px solid black'})\n",
    "uploader = widgets.FileUpload(accept='image/jpeg', multiple=False)\n",
    "\n",
    "@out.capture(clear_output=True)\n",
    "def display_image():\n",
    "\n",
    "    first_image_filename = (list(uploader.value.keys())[0])\n",
    "    image_file_data = uploader.value[first_image_filename][\"content\"]\n",
    "    image = Image.open(io.BytesIO(image_file_data))\n",
    "\n",
    "    # Model expects specific model dimensions \n",
    "    size = (pixels,pixels)\n",
    "    resized_image = image.resize(size)\n",
    "\n",
    "    img_array = tf.keras.utils.img_to_array(resized_image)\n",
    "    img_array = tf.expand_dims(img_array, 0) # Create a batch\n",
    "    img_array = img_array / 255 # normalize floats between 0 and 1\n",
    "\n",
    "    [rank] = model.predict(img_array)\n",
    "    preds = zip(list(class_names), list(rank))\n",
    "    score = list(sorted(list(preds), key = lambda z: z[1], reverse = True)[:len(class_names)])\n",
    "    \n",
    "    formatted_prediction_title = format_predictions(score,first_image_filename)\n",
    "    print(formatted_prediction_title)\n",
    "\n",
    "    plt.imshow(image)\n",
    "    plt.axis('off')\n",
    "    plt.show()\n",
    "\n",
    "    return\n",
    "\n",
    "def on_file_uploaded(change):\n",
    "    display_image()\n",
    "    uploader._counter=0\n",
    "#     display(out)\n",
    "\n",
    "# upload image file\n",
    "uploader.observe(on_file_uploaded, 'value')\n",
    "# display(uploader)\n"
   ]
  },
  {
   "cell_type": "code",
   "execution_count": 9,
   "id": "5f2791fb",
   "metadata": {},
   "outputs": [
    {
     "data": {
      "application/vnd.jupyter.widget-view+json": {
       "model_id": "7964387308904f67a356391aced78d45",
       "version_major": 2,
       "version_minor": 0
      },
      "text/plain": [
       "VBox(children=(FileUpload(value={}, accept='image/jpeg', description='Upload'), Output(layout=Layout(border='1…"
      ]
     },
     "metadata": {},
     "output_type": "display_data"
    }
   ],
   "source": [
    "# out\n",
    "display(\n",
    "    VBox([uploader,out])\n",
    ")"
   ]
  }
 ],
 "metadata": {
  "colab": {
   "collapsed_sections": [
    "kABfB_TLpi6f"
   ],
   "name": "Art Classifier Trained Model Prediction",
   "provenance": []
  },
  "kernelspec": {
   "display_name": "Python 3 (ipykernel)",
   "language": "python",
   "name": "python3"
  },
  "language_info": {
   "codemirror_mode": {
    "name": "ipython",
    "version": 3
   },
   "file_extension": ".py",
   "mimetype": "text/x-python",
   "name": "python",
   "nbconvert_exporter": "python",
   "pygments_lexer": "ipython3",
   "version": "3.9.0"
  },
  "widgets": {
   "application/vnd.jupyter.widget-state+json": {
    "1cbc4a5f84954137b3f153093f061c6b": {
     "model_module": "@jupyter-widgets/base",
     "model_module_version": "1.2.0",
     "model_name": "LayoutModel",
     "state": {
      "_model_module": "@jupyter-widgets/base",
      "_model_module_version": "1.2.0",
      "_model_name": "LayoutModel",
      "_view_count": null,
      "_view_module": "@jupyter-widgets/base",
      "_view_module_version": "1.2.0",
      "_view_name": "LayoutView",
      "align_content": null,
      "align_items": null,
      "align_self": null,
      "border": null,
      "bottom": null,
      "display": null,
      "flex": null,
      "flex_flow": null,
      "grid_area": null,
      "grid_auto_columns": null,
      "grid_auto_flow": null,
      "grid_auto_rows": null,
      "grid_column": null,
      "grid_gap": null,
      "grid_row": null,
      "grid_template_areas": null,
      "grid_template_columns": null,
      "grid_template_rows": null,
      "height": null,
      "justify_content": null,
      "justify_items": null,
      "left": null,
      "margin": null,
      "max_height": null,
      "max_width": null,
      "min_height": null,
      "min_width": null,
      "object_fit": null,
      "object_position": null,
      "order": null,
      "overflow": null,
      "overflow_x": null,
      "overflow_y": null,
      "padding": null,
      "right": null,
      "top": null,
      "visibility": null,
      "width": null
     }
    },
    "4f02853d942b4f7cbcdf44cc5aa89ad4": {
     "model_module": "@jupyter-widgets/controls",
     "model_module_version": "1.5.0",
     "model_name": "ButtonStyleModel",
     "state": {
      "_model_module": "@jupyter-widgets/controls",
      "_model_module_version": "1.5.0",
      "_model_name": "ButtonStyleModel",
      "_view_count": null,
      "_view_module": "@jupyter-widgets/base",
      "_view_module_version": "1.2.0",
      "_view_name": "StyleView",
      "button_color": null,
      "font_weight": ""
     }
    },
    "f578594c1caa4eef83499c7b7e87b6aa": {
     "model_module": "@jupyter-widgets/controls",
     "model_module_version": "1.5.0",
     "model_name": "FileUploadModel",
     "state": {
      "_counter": 0,
      "_dom_classes": [],
      "_model_module": "@jupyter-widgets/controls",
      "_model_module_version": "1.5.0",
      "_model_name": "FileUploadModel",
      "_view_count": null,
      "_view_module": "@jupyter-widgets/controls",
      "_view_module_version": "1.5.0",
      "_view_name": "FileUploadView",
      "accept": "image/jpeg",
      "button_style": "",
      "data": [
       null
      ],
      "description": "Upload",
      "description_tooltip": null,
      "disabled": false,
      "error": "",
      "icon": "upload",
      "layout": "IPY_MODEL_1cbc4a5f84954137b3f153093f061c6b",
      "metadata": [
       {
        "lastModified": 1630690759440,
        "name": "2021-owhyee-adventure-sticker.jpeg",
        "size": 412145,
        "type": "image/jpeg"
       }
      ],
      "multiple": false,
      "style": "IPY_MODEL_4f02853d942b4f7cbcdf44cc5aa89ad4"
     }
    }
   }
  }
 },
 "nbformat": 4,
 "nbformat_minor": 5
}
