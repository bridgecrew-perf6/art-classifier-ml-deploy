{
 "cells": [
  {
   "cell_type": "code",
   "execution_count": 1,
   "id": "1mfDsjQ2x95-",
   "metadata": {
    "id": "1mfDsjQ2x95-"
   },
   "outputs": [
    {
     "name": "stdout",
     "output_type": "stream",
     "text": [
      "Metal device set to: Apple M1\n",
      "\n"
     ]
    }
   ],
   "source": [
    "import tensorflow as tf\n",
    "import matplotlib.pyplot as plt\n",
    "import ipywidgets as widgets\n",
    "from ipywidgets import HBox, VBox\n",
    "import requests\n",
    "import io\n",
    "import json\n",
    "from PIL import Image\n",
    "import os\n",
    "import random\n",
    "os.environ['TF_CPP_MIN_LOG_LEVEL'] = '3' # only display error messages\n",
    "\n",
    "# styles of modern art used for classification\n",
    "class_names = ('Abstract Art', 'Abstract Expressionism', 'Cubism', 'Expressionism', 'Naïve Art (Primitivism)', 'Op Art', 'Pop Art', 'Street art', 'Suprematism', 'Surrealism')\n",
    "\n",
    "# images are resized to this square dimension\n",
    "pixels = 224\n",
    "\n",
    "# load previously trained model\n",
    "model = tf.keras.models.load_model(\"./art-classifier-model/art-classification-multi-class-mobilenet-v3-large-sigmoid-0.1dropout-softmax\")\n",
    "\n",
    "with open('exampleArtists.json') as f:\n",
    "    exampleArtists = list(json.load(f).items())\n",
    "# print(exampleArtists)\n",
    "print('')"
   ]
  },
  {
   "cell_type": "code",
   "execution_count": 15,
   "id": "328ecac0",
   "metadata": {
    "id": "328ecac0",
    "scrolled": false
   },
   "outputs": [],
   "source": [
    "def get_predictions(img_array):\n",
    "    [rank] = model.predict(img_array)\n",
    "    preds = zip(list(class_names), list(rank))\n",
    "    score = list(sorted(list(preds), key = lambda z: z[1], reverse = True)[:len(class_names)])\n",
    "\n",
    "    return score\n",
    "\n",
    "def format_predictions(score, artist):\n",
    "    first = score[0]\n",
    "    second = score[1]\n",
    "    third = score[2]\n",
    "    return \"\"\"\n",
    "{} {:.0f}%\n",
    "{} {:.0f}% \n",
    "{} {:.0f}%\n",
    "File Name: {}\"\"\".format(    \n",
    "        first[0], 100 * first[1], \n",
    "        second[0],100*second[1], \n",
    "        third[0],100*third[1],\n",
    "        artist)\n",
    "\n",
    "out = widgets.Output()\n",
    "examples = widgets.Output()\n",
    "\n",
    "uploader = widgets.FileUpload(accept='image/jpeg', multiple=False)\n",
    "\n",
    "@out.capture(clear_output=True)\n",
    "def display_image():\n",
    "\n",
    "    first_image_filename = (list(uploader.value.keys())[0])\n",
    "    image_file_data = uploader.value[first_image_filename][\"content\"]\n",
    "    image = Image.open(io.BytesIO(image_file_data))\n",
    "\n",
    "    # Model expects specific model dimensions \n",
    "    size = (pixels,pixels)\n",
    "    resized_image = image.resize(size)\n",
    "\n",
    "    img_array = tf.keras.utils.img_to_array(resized_image)\n",
    "    img_array = tf.expand_dims(img_array, 0) # Create a batch\n",
    "    img_array = img_array / 255 # normalize floats between 0 and 1\n",
    "\n",
    "    [rank] = model.predict(img_array)\n",
    "    preds = zip(list(class_names), list(rank))\n",
    "    score = list(sorted(list(preds), key = lambda z: z[1], reverse = True)[:len(class_names)])\n",
    "    \n",
    "    formatted_prediction_title = format_predictions(score,first_image_filename)\n",
    "    print(formatted_prediction_title)\n",
    "\n",
    "\n",
    "    plt.figure(figsize = (5,5))\n",
    "    plt.imshow(image)\n",
    "    plt.axis('off')\n",
    "    plt.show()\n",
    "    get_examples(score)\n",
    "    return\n",
    "\n",
    "\n",
    "@examples.capture(clear_output=True)\n",
    "def get_examples(score):\n",
    "    for i in [ 0, 1, 2]:\n",
    "\n",
    "        style = score[i][0]\n",
    "        allArtists = {}\n",
    "        \n",
    "        for k,v in exampleArtists:\n",
    "            if k == style:\n",
    "                allArtists = v\n",
    "        artist = random.choice(allArtists)\n",
    "        \n",
    "        print(\"Example art for style: {}\".format(style))\n",
    "        print(\"Artist: {}\".format(artist[\"artistName\"]))\n",
    "        print(\"Title: {}\".format(artist[\"title\"]))\n",
    "        link = widgets.HTML(\n",
    "            value=\"<a href={} target='_blank'>More info about {}</a>\".format(\n",
    "                artist[\"link\"],artist[\"artistName\"]\n",
    "            ))\n",
    "        display(link)\n",
    "        \n",
    "        response = requests.get(artist[\"imageUrl\"])\n",
    "        image = Image.open(io.BytesIO(response.content))\n",
    "        plt.figure(figsize = (10,10))\n",
    "        plt.imshow(image,interpolation='nearest')\n",
    "        plt.axis('off')\n",
    "        plt.show()\n",
    "    \n",
    "\n",
    "def on_file_uploaded(change):\n",
    "    display_image()\n",
    "    uploader._counter=0\n",
    "\n",
    "# upload image file\n",
    "uploader.observe(on_file_uploaded, 'value')"
   ]
  },
  {
   "cell_type": "markdown",
   "id": "kABfB_TLpi6f",
   "metadata": {
    "id": "kABfB_TLpi6f"
   },
   "source": [
    "# Modern Art Style Classifier\n",
    "\n",
    "The influences of modern art are all around us. Use this machine learning model to discover the influences of modern art in your image.\n",
    "\n",
    "_Images discarded after each use. Source available at [Github](https://github.com/todgru/art-classifier-ml-deploy). Deployed with [MyBinder.org](https://mybinder.org)_\n"
   ]
  },
  {
   "cell_type": "code",
   "execution_count": 16,
   "id": "5f2791fb",
   "metadata": {},
   "outputs": [
    {
     "data": {
      "application/vnd.jupyter.widget-view+json": {
       "model_id": "97b393302605483598c815b61a660783",
       "version_major": 2,
       "version_minor": 0
      },
      "text/plain": [
       "Box(children=(HBox(children=(FileUpload(value={}, accept='image/jpeg', description='Upload'),)), HBox(children…"
      ]
     },
     "metadata": {},
     "output_type": "display_data"
    }
   ],
   "source": [
    "from ipywidgets import Layout, Button, Box\n",
    "\n",
    "box_layout = Layout(display='flex',\n",
    "                    flex_flow='column',\n",
    "                    align_items='unset',#'stretch',\n",
    "                    width='100%',\n",
    "                    height='100%')\n",
    "\n",
    "inner_left = Layout(display='flex',\n",
    "                flex_flow='column',\n",
    "                align_items='unset',#'center',#'stretch',\n",
    "                width='30%')\n",
    "inner_right = Layout(display='flex',\n",
    "                flex_flow='column',\n",
    "                align_items='unset',#'center',#'stretch',\n",
    "                width='70%')\n",
    "\n",
    "\n",
    "left_box = VBox([out])\n",
    "right_box = VBox([examples])\n",
    "\n",
    "top_row = HBox([uploader])\n",
    "images_display_row = HBox(\n",
    "    [\n",
    "        Box(children=[left_box], layout=inner_left), \n",
    "        Box(children=[right_box], layout=inner_right)\n",
    "    ])\n",
    "\n",
    "items = [top_row, images_display_row]\n",
    "box = Box(children=items, layout=box_layout)\n",
    "box"
   ]
  }
 ],
 "metadata": {
  "colab": {
   "collapsed_sections": [
    "kABfB_TLpi6f"
   ],
   "name": "Art Classifier Trained Model Prediction",
   "provenance": []
  },
  "kernelspec": {
   "display_name": "Python 3 (ipykernel)",
   "language": "python",
   "name": "python3"
  },
  "language_info": {
   "codemirror_mode": {
    "name": "ipython",
    "version": 3
   },
   "file_extension": ".py",
   "mimetype": "text/x-python",
   "name": "python",
   "nbconvert_exporter": "python",
   "pygments_lexer": "ipython3",
   "version": "3.9.0"
  },
  "widgets": {
   "application/vnd.jupyter.widget-state+json": {
    "1cbc4a5f84954137b3f153093f061c6b": {
     "model_module": "@jupyter-widgets/base",
     "model_module_version": "1.2.0",
     "model_name": "LayoutModel",
     "state": {
      "_model_module": "@jupyter-widgets/base",
      "_model_module_version": "1.2.0",
      "_model_name": "LayoutModel",
      "_view_count": null,
      "_view_module": "@jupyter-widgets/base",
      "_view_module_version": "1.2.0",
      "_view_name": "LayoutView",
      "align_content": null,
      "align_items": null,
      "align_self": null,
      "border": null,
      "bottom": null,
      "display": null,
      "flex": null,
      "flex_flow": null,
      "grid_area": null,
      "grid_auto_columns": null,
      "grid_auto_flow": null,
      "grid_auto_rows": null,
      "grid_column": null,
      "grid_gap": null,
      "grid_row": null,
      "grid_template_areas": null,
      "grid_template_columns": null,
      "grid_template_rows": null,
      "height": null,
      "justify_content": null,
      "justify_items": null,
      "left": null,
      "margin": null,
      "max_height": null,
      "max_width": null,
      "min_height": null,
      "min_width": null,
      "object_fit": null,
      "object_position": null,
      "order": null,
      "overflow": null,
      "overflow_x": null,
      "overflow_y": null,
      "padding": null,
      "right": null,
      "top": null,
      "visibility": null,
      "width": null
     }
    },
    "4f02853d942b4f7cbcdf44cc5aa89ad4": {
     "model_module": "@jupyter-widgets/controls",
     "model_module_version": "1.5.0",
     "model_name": "ButtonStyleModel",
     "state": {
      "_model_module": "@jupyter-widgets/controls",
      "_model_module_version": "1.5.0",
      "_model_name": "ButtonStyleModel",
      "_view_count": null,
      "_view_module": "@jupyter-widgets/base",
      "_view_module_version": "1.2.0",
      "_view_name": "StyleView",
      "button_color": null,
      "font_weight": ""
     }
    },
    "f578594c1caa4eef83499c7b7e87b6aa": {
     "model_module": "@jupyter-widgets/controls",
     "model_module_version": "1.5.0",
     "model_name": "FileUploadModel",
     "state": {
      "_counter": 0,
      "_dom_classes": [],
      "_model_module": "@jupyter-widgets/controls",
      "_model_module_version": "1.5.0",
      "_model_name": "FileUploadModel",
      "_view_count": null,
      "_view_module": "@jupyter-widgets/controls",
      "_view_module_version": "1.5.0",
      "_view_name": "FileUploadView",
      "accept": "image/jpeg",
      "button_style": "",
      "data": [
       null
      ],
      "description": "Upload",
      "description_tooltip": null,
      "disabled": false,
      "error": "",
      "icon": "upload",
      "layout": "IPY_MODEL_1cbc4a5f84954137b3f153093f061c6b",
      "metadata": [
       {
        "lastModified": 1630690759440,
        "name": "2021-owhyee-adventure-sticker.jpeg",
        "size": 412145,
        "type": "image/jpeg"
       }
      ],
      "multiple": false,
      "style": "IPY_MODEL_4f02853d942b4f7cbcdf44cc5aa89ad4"
     }
    }
   }
  }
 },
 "nbformat": 4,
 "nbformat_minor": 5
}
